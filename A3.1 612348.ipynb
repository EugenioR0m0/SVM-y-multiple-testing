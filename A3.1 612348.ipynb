{
 "cells": [
  {
   "cell_type": "markdown",
   "id": "f636f20f-20bf-4941-9a9d-5d6401905c00",
   "metadata": {},
   "source": [
    "### **Inciso 1: Exploración de datos y diferencias de medias**\n",
    "\n",
    "**Descripción**\n",
    "- Se identificó la variable de salida `y` y se verificó que no existieran valores faltantes.  \n",
    "- Se calcularon las medias de expresión génica para las clases **2** y **4**.  \n",
    "- Se obtuvo la diferencia absoluta de medias entre ambas clases para cada gen.  \n",
    "- Se listaron los **10 genes** con mayor diferencia de expresión.\n",
    "\n",
    "**Resultados**\n",
    "- **Dataset:** 83 muestras y 2308 genes (+1 etiqueta).  \n",
    "- **Valores faltantes:** 0  \n",
    "- **Distribución de clases:**  \n",
    "  - Clase 1 → 11 muestras  \n",
    "  - Clase 2 → 29 muestras  \n",
    "  - Clase 3 → 18 muestras  \n",
    "  - Clase 4 → 25 muestras  \n",
    "- **Genes con mayor diferencia de medias (Clase 2 vs 4):**  \n",
    "  X187, X509, X2046, X2050, X129, X1645, X1319, X1955, X1003 y X246."
   ]
  },
  {
   "cell_type": "code",
   "execution_count": 1,
   "id": "149b4acb-ec8d-49a8-b97c-b39bbe303d0e",
   "metadata": {},
   "outputs": [
    {
     "name": "stdout",
     "output_type": "stream",
     "text": [
      "Etiqueta detectada: y\n",
      "Dimensiones del dataset: 83 muestras x 2308 genes (+1 etiqueta)\n",
      "\n",
      "Valores faltantes totales: 0\n",
      "\n",
      "Conteo por clase:\n",
      " y\n",
      "1    11\n",
      "2    29\n",
      "3    18\n",
      "4    25\n",
      "\n",
      "Top 10 genes por |diferencia de medias| (Clase 2 vs 4):\n",
      "       abs_mean_diff\n",
      "X187        3.323151\n",
      "X509        2.906537\n",
      "X2046       2.424515\n",
      "X2050       2.401783\n",
      "X129        2.165185\n",
      "X1645       2.065460\n",
      "X1319       2.045941\n",
      "X1955       2.037340\n",
      "X1003       2.011337\n",
      "X246        1.837830\n"
     ]
    }
   ],
   "source": [
    "import pandas as pd\n",
    "import numpy as np\n",
    "from pathlib import Path\n",
    "\n",
    "data_path = Path('A3.1 Khan.csv')\n",
    "df = pd.read_csv(data_path)\n",
    "\n",
    "possible_label_cols = [c for c in df.columns if c.lower() in ['class', 'clase', 'label', 'target', 'y']]\n",
    "label_col = possible_label_cols[0] if possible_label_cols else df.columns[0]\n",
    "\n",
    "if df.columns[0] != label_col:\n",
    "    df = df[[label_col] + [c for c in df.columns if c != label_col]]\n",
    "\n",
    "print(f\"Etiqueta detectada: {label_col}\")\n",
    "print(f\"Dimensiones del dataset: {df.shape[0]} muestras x {df.shape[1]-1} genes (+1 etiqueta)\\n\")\n",
    "\n",
    "total_missing = int(df.isna().sum().sum())\n",
    "print(f\"Valores faltantes totales: {total_missing}\")\n",
    "\n",
    "class_counts = df[label_col].value_counts().sort_index()\n",
    "print(\"\\nConteo por clase:\\n\", class_counts.to_string())\n",
    "\n",
    "feature_cols = [c for c in df.columns if c != label_col]\n",
    "num_cols = df[feature_cols].select_dtypes(include=[np.number]).columns.tolist()\n",
    "\n",
    "subset_24 = df[df[label_col].isin([2, 4])].copy()\n",
    "means_2 = subset_24[subset_24[label_col] == 2][num_cols].mean()\n",
    "means_4 = subset_24[subset_24[label_col] == 4][num_cols].mean()\n",
    "abs_diff = (means_2 - means_4).abs().sort_values(ascending=False)\n",
    "top10_diff = abs_diff.head(10)\n",
    "\n",
    "print(\"\\nTop 10 genes por |diferencia de medias| (Clase 2 vs 4):\")\n",
    "print(top10_diff.to_frame(\"abs_mean_diff\"))"
   ]
  },
  {
   "cell_type": "markdown",
   "id": "2ed15001-b475-43d3-93b2-c6156ee9c35e",
   "metadata": {},
   "source": [
    "### **Inciso 2: Prueba t y correcciones múltiples**\n",
    "\n",
    "**Descripción**\n",
    "- Se aplicó una **prueba t independiente** para comparar la expresión génica entre las clases **2** y **4**.  \n",
    "- Para cada gen, se calculó el estadístico *t* y su valor *p*.  \n",
    "- Se realizaron correcciones por comparaciones múltiples mediante los métodos **Bonferroni**, **Holm-Bonferroni** y **Benjamini–Hochberg (FDR)** con un nivel de significancia α = 0.05.  \n",
    "- Se identificaron los genes con diferencias estadísticamente significativas en la expresión entre las dos clases.\n",
    "\n",
    "**Resultados**\n",
    "- **Genes significativos (α = 0.05):**  \n",
    "  - Bonferroni: 72  \n",
    "  - Holm–Bonferroni: 72  \n",
    "  - Benjamini–Hochberg (FDR): 296  \n",
    "- Los genes con menor *p-value* (sin corrección) fueron principalmente:  \n",
    "  **X1003**, **X187**, **X2050**, **X1955**, **X1645**, **X246**, **X2046**, **X509**, **X1954**, **X1389**, **X1799**, **X1194**, **X1319**, **X1911** y **X566**.  \n",
    "- La corrección Benjamini–Hochberg permitió identificar un mayor número de genes con diferencias significativas, lo cual es esperable por ser un método menos conservador.\n"
   ]
  },
  {
   "cell_type": "code",
   "execution_count": 2,
   "id": "51d3ca85-9feb-45dc-8f2f-2631c4f42bca",
   "metadata": {},
   "outputs": [
    {
     "name": "stdout",
     "output_type": "stream",
     "text": [
      "Número de genes significativos (α = 0.05):\n",
      "Bonferroni: 72\n",
      "Holm-Bonferroni: 72\n",
      "Benjamini-Hochberg: 296\n",
      "\n",
      "Top 15 genes por p-value (sin corregir):\n",
      "          t_stat       p_value  p_bonferroni  signif_bonferroni        p_holm  \\\n",
      "gene                                                                            \n",
      "X1003 -12.879590  4.998692e-17  1.153698e-13               True  1.153698e-13   \n",
      "X187  -12.229464  3.716887e-16  8.578576e-13               True  8.574859e-13   \n",
      "X2050 -10.983249  4.084836e-15  9.427801e-12               True  9.419631e-12   \n",
      "X1955 -12.579058  5.307128e-15  1.224885e-11               True  1.223293e-11   \n",
      "X1645  10.827754  8.262889e-15  1.907075e-11               True  1.903770e-11   \n",
      "X246   10.558828  1.537507e-14  3.548567e-11               True  3.540879e-11   \n",
      "X2046 -10.842463  1.769295e-14  4.083533e-11               True  4.072917e-11   \n",
      "X509  -11.334229  7.555354e-14  1.743776e-10               True  1.738487e-10   \n",
      "X1954  10.178272  9.504059e-14  2.193537e-10               True  2.185934e-10   \n",
      "X1389   9.702610  6.387904e-13  1.474328e-09               True  1.468579e-09   \n",
      "X1799  -9.375773  1.175627e-12  2.713348e-09               True  2.701592e-09   \n",
      "X1194  -9.298578  1.273036e-12  2.938167e-09               True  2.924164e-09   \n",
      "X1319   9.625244  2.618241e-12  6.042901e-09               True  6.011482e-09   \n",
      "X1911  -8.004403  3.202753e-10  7.391954e-07               True  7.350319e-07   \n",
      "X566    7.786567  3.943157e-10  9.100807e-07               True  9.045603e-07   \n",
      "\n",
      "       signif_holm          p_bh  signif_bh  \n",
      "gene                                         \n",
      "X1003         True  1.153698e-13       True  \n",
      "X187          True  4.289288e-13       True  \n",
      "X2050         True  3.062213e-12       True  \n",
      "X1955         True  3.062213e-12       True  \n",
      "X1645         True  3.814150e-12       True  \n",
      "X246          True  5.833619e-12       True  \n",
      "X2046         True  5.833619e-12       True  \n",
      "X509          True  2.179720e-11       True  \n",
      "X1954         True  2.437263e-11       True  \n",
      "X1389         True  1.474328e-10       True  \n",
      "X1799         True  2.448473e-10       True  \n",
      "X1194         True  2.448473e-10       True  \n",
      "X1319         True  4.648385e-10       True  \n",
      "X1911         True  5.279967e-08       True  \n",
      "X566          True  6.067205e-08       True  \n"
     ]
    }
   ],
   "source": [
    "from scipy.stats import ttest_ind\n",
    "from statsmodels.stats.multitest import multipletests\n",
    "\n",
    "subset_24 = df[df[label_col].isin([2, 4])]\n",
    "X2 = subset_24[subset_24[label_col] == 2][num_cols].to_numpy()\n",
    "X4 = subset_24[subset_24[label_col] == 4][num_cols].to_numpy()\n",
    "\n",
    "t_stats, p_vals = [], []\n",
    "for j, col in enumerate(num_cols):\n",
    "    t_stat, p_val = ttest_ind(X2[:, j], X4[:, j], equal_var=False, nan_policy='omit')\n",
    "    t_stats.append(t_stat)\n",
    "    p_vals.append(p_val)\n",
    "\n",
    "ttest_df = pd.DataFrame({\"gene\": num_cols, \"t_stat\": t_stats, \"p_value\": p_vals}).set_index(\"gene\")\n",
    "\n",
    "rej_bonf, p_bonf, _, _ = multipletests(ttest_df[\"p_value\"].values, alpha=0.05, method=\"bonferroni\")\n",
    "rej_holm, p_holm, _, _ = multipletests(ttest_df[\"p_value\"].values, alpha=0.05, method=\"holm\")\n",
    "rej_bh, p_bh, _, _ = multipletests(ttest_df[\"p_value\"].values, alpha=0.05, method=\"fdr_bh\")\n",
    "\n",
    "ttest_df[\"p_bonferroni\"] = p_bonf\n",
    "ttest_df[\"signif_bonferroni\"] = rej_bonf\n",
    "ttest_df[\"p_holm\"] = p_holm\n",
    "ttest_df[\"signif_holm\"] = rej_holm\n",
    "ttest_df[\"p_bh\"] = p_bh\n",
    "ttest_df[\"signif_bh\"] = rej_bh\n",
    "\n",
    "print(\"Número de genes significativos (α = 0.05):\")\n",
    "print(f\"Bonferroni: {int(rej_bonf.sum())}\")\n",
    "print(f\"Holm-Bonferroni: {int(rej_holm.sum())}\")\n",
    "print(f\"Benjamini-Hochberg: {int(rej_bh.sum())}\\n\")\n",
    "\n",
    "print(\"Top 15 genes por p-value (sin corregir):\")\n",
    "print(ttest_df.sort_values(\"p_value\").head(15))"
   ]
  },
  {
   "cell_type": "markdown",
   "id": "b8666cb3-87a0-4598-b25b-6490c05606df",
   "metadata": {},
   "source": [
    "### **Inciso 3: ANOVA entre las cuatro clases**\n",
    "\n",
    "**Descripción**\n",
    "- Se aplicó un **ANOVA de una vía (f_oneway)** para comparar la expresión génica entre las **cuatro clases** del dataset.  \n",
    "- El objetivo fue identificar genes cuya expresión varía significativamente entre los distintos tipos de cáncer.  \n",
    "- Se aplicó la corrección de **Benjamini–Hochberg (FDR)** para controlar el error por comparaciones múltiples, con un nivel de significancia α = 0.05.  \n",
    "- Se ordenaron los genes por su valor *p* para destacar los más relevantes.\n",
    "\n",
    "**Resultados**\n",
    "- **Genes significativos (α = 0.05):** 1162  \n",
    "- Los **genes con menor valor *p*** (más relevantes según ANOVA) fueron:  \n",
    "  **X1955**, **X1389**, **X1003**, **X2050**, **X246**, **X742**, **X1**, **X2162**, **X1954**, **X1645**, **X187**, **X545**, **X1395**, **X1911** y **X1319**.  \n",
    "- Estos resultados indican una variación significativa en la expresión de más de mil genes entre las cuatro clases, lo que sugiere una clara diferenciación de perfiles genómicos entre los tipos de cáncer."
   ]
  },
  {
   "cell_type": "code",
   "execution_count": 6,
   "id": "2d631bca-6a61-4164-bfa5-47747788b844",
   "metadata": {},
   "outputs": [
    {
     "name": "stdout",
     "output_type": "stream",
     "text": [
      "Genes significativos por ANOVA con BH (α = 0.05): 1162\n",
      "\n",
      "Top 15 genes por p-value (ANOVA):\n",
      "          F_stat       p_value          p_bh  signif_bh\n",
      "gene                                                   \n",
      "X1955  84.364086  1.459035e-24  2.045755e-21       True\n",
      "X1389  83.817537  1.772751e-24  2.045755e-21       True\n",
      "X1003  77.795622  1.618988e-23  1.245542e-20       True\n",
      "X2050  69.230799  4.733702e-22  2.731346e-19       True\n",
      "X246   68.414042  6.633722e-22  3.062126e-19       True\n",
      "X742   65.572797  2.195548e-21  8.445542e-19       True\n",
      "X1     59.118264  3.839240e-20  1.265852e-17       True\n",
      "X2162  56.987623  1.035143e-19  2.986387e-17       True\n",
      "X1954  55.419914  2.182635e-19  5.597246e-17       True\n",
      "X1645  54.768403  2.988392e-19  6.751740e-17       True\n",
      "X187   54.615724  3.217900e-19  6.751740e-17       True\n",
      "X545   54.022572  4.295256e-19  7.843366e-17       True\n",
      "X2022  53.965005  4.417841e-19  7.843366e-17       True\n",
      "X1194  52.668068  8.372622e-19  1.270950e-16       True\n",
      "X1319  52.608871  8.622674e-19  1.270950e-16       True\n"
     ]
    }
   ],
   "source": [
    "from scipy.stats import f_oneway\n",
    "from statsmodels.stats.multitest import multipletests\n",
    "\n",
    "classes_sorted = sorted(df[label_col].unique())\n",
    "groups = [df[df[label_col] == k][num_cols].to_numpy() for k in classes_sorted]\n",
    "\n",
    "F_vals, p_vals_anova = [], []\n",
    "for j, col in enumerate(num_cols):\n",
    "    group_arrays = [g[:, j] for g in groups]\n",
    "    F, p = f_oneway(*group_arrays)\n",
    "    F_vals.append(F)\n",
    "    p_vals_anova.append(p)\n",
    "\n",
    "anova_df = pd.DataFrame({\"gene\": num_cols, \"F_stat\": F_vals, \"p_value\": p_vals_anova}).set_index(\"gene\")\n",
    "\n",
    "rej_bh_anova, p_bh_anova, _, _ = multipletests(anova_df[\"p_value\"].values, alpha=0.05, method=\"fdr_bh\")\n",
    "anova_df[\"p_bh\"] = p_bh_anova\n",
    "anova_df[\"signif_bh\"] = rej_bh_anova\n",
    "\n",
    "print(f\"Genes significativos por ANOVA con BH (α = 0.05): {int(rej_bh_anova.sum())}\\n\")\n",
    "\n",
    "print(\"Top 15 genes por p-value (ANOVA):\")\n",
    "print(anova_df.sort_values(\"p_value\").head(15))"
   ]
  },
  {
   "cell_type": "markdown",
   "id": "0144efa3-8ad8-4501-838f-c1652a30210f",
   "metadata": {},
   "source": [
    "### **Inciso 4: Entrenamiento y evaluación de modelos SVM**\n",
    "\n",
    "**Descripción**\n",
    "- Se seleccionaron los **50 genes más significativos** del análisis ANOVA (Inciso 3) como variables de entrada para los modelos de clasificación.  \n",
    "- Se dividieron los datos en **entrenamiento (70%)** y **prueba (30%)** utilizando una división estratificada para conservar la proporción de clases.  \n",
    "- Se entrenaron tres modelos de **Máquinas de Vectores de Soporte (SVM)** con distintos kernels:  \n",
    "  - Lineal  \n",
    "  - Polinomial de grado 3  \n",
    "  - Radial (RBF)  \n",
    "- Se evaluó el desempeño de cada modelo usando las métricas **accuracy**, **macro precision**, **macro recall** y **macro F1-score**.  \n",
    "- Se visualizaron las matrices de confusión para observar el desempeño por clase.\n",
    "\n",
    "**Resultados**\n",
    "- Los modelos **SVM Lineal** y **SVM RBF** alcanzaron un **100% de precisión (accuracy = 1.00)**, mientras que el modelo **SVM Polinomial (grado 3)** obtuvo un **92%** de exactitud.  \n",
    "- Las matrices de confusión muestran una clasificación perfecta para los modelos **Lineal** y **RBF**, sin errores de predicción.  \n",
    "- El modelo **Polinomial** presentó ligeros errores al confundir algunas muestras de la clase 3.  \n",
    "- En conjunto, los resultados indican que los datos son **altamente separables linealmente**, por lo que el **kernel lineal** y el **RBF** ofrecen el mejor desempeño para este conjunto de genes.\n"
   ]
  },
  {
   "cell_type": "code",
   "execution_count": 10,
   "id": "d6b90718-0c24-40e2-be53-24db2b6ef9d8",
   "metadata": {},
   "outputs": [
    {
     "name": "stdout",
     "output_type": "stream",
     "text": [
      "              model  accuracy  macro_precision  macro_recall  macro_f1\n",
      "0        SVM Linear      1.00         1.000000           1.0    1.0000\n",
      "2           SVM RBF      1.00         1.000000           1.0    1.0000\n",
      "1  SVM Poly (deg=3)      0.92         0.954545           0.9    0.9125 \n",
      "\n"
     ]
    },
    {
     "data": {
      "image/png": "[encoded data removed]",
      "text/plain": [
       "<Figure size 500x400 with 2 Axes>"
      ]
     },
     "metadata": {},
     "output_type": "display_data"
    },
    {
     "data": {
      "image/png": "[encoded data removed]",
      "text/plain": [
       "<Figure size 500x400 with 2 Axes>"
      ]
     },
     "metadata": {},
     "output_type": "display_data"
    },
    {
     "data": {
      "image/png": "[encoded data removed]",
      "text/plain": [
       "<Figure size 500x400 with 2 Axes>"
      ]
     },
     "metadata": {},
     "output_type": "display_data"
    }
   ],
   "source": [
    "from sklearn.model_selection import train_test_split\n",
    "from sklearn.preprocessing import StandardScaler\n",
    "from sklearn.pipeline import make_pipeline\n",
    "from sklearn.svm import SVC\n",
    "from sklearn.metrics import accuracy_score, precision_recall_fscore_support, confusion_matrix\n",
    "import matplotlib.pyplot as plt\n",
    "import numpy as np\n",
    "\n",
    "top_k = 50\n",
    "selected_genes = anova_df.sort_values(\"p_value\").index[:top_k].tolist()\n",
    "\n",
    "X = df[selected_genes]\n",
    "y = df[label_col].astype(int)\n",
    "\n",
    "X_train, X_test, y_train, y_test = train_test_split(\n",
    "    X, y, test_size=0.3, random_state=42, stratify=y\n",
    ")\n",
    "\n",
    "models = {\n",
    "    \"SVM Linear\": make_pipeline(StandardScaler(with_mean=True), SVC(kernel=\"linear\", random_state=42)),\n",
    "    \"SVM Poly (deg=3)\": make_pipeline(StandardScaler(with_mean=True), SVC(kernel=\"poly\", degree=3, random_state=42)),\n",
    "    \"SVM RBF\": make_pipeline(StandardScaler(with_mean=True), SVC(kernel=\"rbf\", gamma=\"scale\", random_state=42)),\n",
    "}\n",
    "\n",
    "metrics_rows = []\n",
    "conf_mats = {}\n",
    "classes_sorted = sorted(y.unique())\n",
    "\n",
    "for name, pipe in models.items():\n",
    "    pipe.fit(X_train, y_train)\n",
    "    y_pred = pipe.predict(X_test)\n",
    "\n",
    "    acc = accuracy_score(y_test, y_pred)\n",
    "    prec, rec, f1, _ = precision_recall_fscore_support(y_test, y_pred, average=\"macro\", zero_division=0)\n",
    "\n",
    "    metrics_rows.append({\n",
    "        \"model\": name,\n",
    "        \"accuracy\": acc,\n",
    "        \"macro_precision\": prec,\n",
    "        \"macro_recall\": rec,\n",
    "        \"macro_f1\": f1\n",
    "    })\n",
    "\n",
    "    cm = confusion_matrix(y_test, y_pred, labels=classes_sorted)\n",
    "    conf_mats[name] = cm\n",
    "\n",
    "metrics_df = pd.DataFrame(metrics_rows).sort_values(\"accuracy\", ascending=False)\n",
    "print(metrics_df, \"\\n\")\n",
    "\n",
    "for name, cm in conf_mats.items():\n",
    "    plt.figure(figsize=(5, 4))\n",
    "    plt.imshow(cm, interpolation='nearest', cmap='Blues')\n",
    "    plt.title(f'Matriz de Confusión - {name}')\n",
    "    plt.colorbar()\n",
    "    tick_marks = np.arange(len(classes_sorted))\n",
    "    plt.xticks(tick_marks, classes_sorted)\n",
    "    plt.yticks(tick_marks, classes_sorted)\n",
    "    plt.xlabel('Predicted')\n",
    "    plt.ylabel('True')\n",
    "    for i in range(cm.shape[0]):\n",
    "        for j in range(cm.shape[1]):\n",
    "            plt.text(j, i, format(cm[i, j], 'd'), ha=\"center\", va=\"center\", color=\"black\")\n",
    "    plt.tight_layout()\n",
    "    plt.show()"
   ]
  },
  {
   "cell_type": "markdown",
   "id": "75e45209-d415-48ad-9c9f-ea2c3f2b2267",
   "metadata": {},
   "source": [
    "### **Inciso 5: Comparación y selección del mejor modelo**\n",
    "\n",
    "**Descripción**\n",
    "- Se compararon los tres modelos de **SVM** (Lineal, Polinomial grado 3 y RBF) según las métricas globales de desempeño.  \n",
    "- Se ordenaron los modelos por **accuracy**, y se seleccionó el mejor considerando también **precision**, **recall** y **F1-score**.  \n",
    "- El análisis permitió determinar qué kernel ofrece la mejor capacidad de generalización para la clasificación de los tipos de cáncer a partir de la expresión génica.\n",
    "\n",
    "**Resultados**\n",
    "- Los modelos **SVM Lineal** y **SVM RBF** alcanzaron un desempeño perfecto (**accuracy = 1.00**, **precision = 1.00**, **recall = 1.00**, **F1 = 1.00**).  \n",
    "- El modelo **SVM Polinomial (grado 3)** obtuvo un desempeño ligeramente menor (**accuracy = 0.92**, **F1 = 0.91**).  \n",
    "- Dado que ambos modelos (Lineal y RBF) obtuvieron métricas idénticas, se concluye que los datos son **linealmente separables**, por lo que el **SVM Lineal** es el más adecuado por su menor complejidad computacional y excelente desempeño."
   ]
  },
  {
   "cell_type": "code",
   "execution_count": 9,
   "id": "eea490f1-4878-4cdd-a67b-cd3226a3d8c8",
   "metadata": {},
   "outputs": [
    {
     "name": "stdout",
     "output_type": "stream",
     "text": [
      "Resumen comparativo (ordenado por accuracy):\n",
      "           model  accuracy  macro_precision  macro_recall  macro_f1\n",
      "      SVM Linear      1.00         1.000000           1.0    1.0000\n",
      "         SVM RBF      1.00         1.000000           1.0    1.0000\n",
      "SVM Poly (deg=3)      0.92         0.954545           0.9    0.9125 \n",
      "\n",
      "Mejor modelo por accuracy: SVM Linear  -> acc=1.000, macro_precision=1.000, macro_recall=1.000, macro_f1=1.000\n"
     ]
    }
   ],
   "source": [
    "best_row = metrics_df.iloc[0]\n",
    "best_model = best_row[\"model\"]\n",
    "\n",
    "print(\"Resumen comparativo (ordenado por accuracy):\")\n",
    "print(metrics_df.to_string(index=False), \"\\n\")\n",
    "\n",
    "print(f\"Mejor modelo por accuracy: {best_model}  -> \"\n",
    "      f\"acc={best_row['accuracy']:.3f}, \"\n",
    "      f\"macro_precision={best_row['macro_precision']:.3f}, \"\n",
    "      f\"macro_recall={best_row['macro_recall']:.3f}, \"\n",
    "      f\"macro_f1={best_row['macro_f1']:.3f}\")"
   ]
  },
  {
   "cell_type": "markdown",
   "id": "c760c08d-c6a7-4eb6-aae6-d18ca9153085",
   "metadata": {},
   "source": [
    "### **Conclusión general**\n",
    "\n",
    "El análisis de expresión génica realizado permitió identificar diferencias claras entre los distintos tipos de cáncer representados en el dataset.  \n",
    "Las pruebas estadísticas aplicadas mostraron que un número considerable de genes presentan diferencias significativas de expresión entre clases: **296 genes** al comparar las clases 2 y 4 mediante la prueba *t*, y **1162 genes** al analizar las cuatro clases con ANOVA corregido por Benjamini–Hochberg.  \n",
    "Estos resultados evidencian la presencia de patrones genómicos distintivos que permiten diferenciar los tipos de cáncer a nivel molecular.\n",
    "\n",
    "En la etapa de modelado, los clasificadores **SVM Lineal** y **SVM RBF** alcanzaron un desempeño perfecto (**accuracy = 1.00**, **F1 = 1.00**), lo que sugiere que las clases son altamente separables en el espacio de las variables seleccionadas. El **SVM Lineal**, por su simplicidad y eficiencia computacional, se considera el modelo más apropiado para esta tarea.  \n",
    "\n",
    "En conjunto, el estudio confirma que existe una **fuerte relación entre la expresión génica y el tipo de cáncer**, y que los métodos estadísticos combinados con algoritmos de aprendizaje automático pueden ser herramientas altamente efectivas para la clasificación y análisis de datos biológicos complejos."
   ]
  }
 ],
 "metadata": {
  "kernelspec": {
   "display_name": "Python [conda env:base] *",
   "language": "python",
   "name": "conda-base-py"
  },
  "language_info": {
   "codemirror_mode": {
    "name": "ipython",
    "version": 3
   },
   "file_extension": ".py",
   "mimetype": "text/x-python",
   "name": "python",
   "nbconvert_exporter": "python",
   "pygments_lexer": "ipython3",
   "version": "3.13.5"
  }
 },
 "nbformat": 4,
 "nbformat_minor": 5
}
